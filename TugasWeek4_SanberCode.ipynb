{
  "cells": [
    {
      "cell_type": "markdown",
      "source": [
        "# Tugas Hari PERTAMA_TIPE DATA, HANDLING, MISSING VALUES, OUTLIERS, AND DATA SCALING"
      ],
      "metadata": {
        "id": "SXl29qJOjvT6"
      }
    },
    {
      "cell_type": "markdown",
      "metadata": {
        "id": "47NOwo3UNcRl"
      },
      "source": [
        "<h1>Soal 1: Pemahaman Machine Learning</h1>\n",
        "\n",
        "Jawab/Kerjakan pertanyaan/perintah di bawah ini dengan bahasa kalian sendiri:\n",
        "\n",
        "- Apa itu machine learning?\n",
        "- Apa itu data feature dan data target?\n",
        "- Apa Perbedaan Supervised Learning dan Unsupervised Learning?\n",
        "- Apa Jenis2 yang ada di dalam Supervised Learning? Jelaskan Perbedaannya!\n",
        "- Apa perbedaan Hyperparameter dan Parameter?\n",
        "- Sebutkan Langkah-langkah dalam mengaplikasikan algoritma apapun dalam machine learning!"
      ]
    },
    {
      "cell_type": "markdown",
      "metadata": {
        "id": "EsKacGXttFJ9"
      },
      "source": [
        "-Machine Learning merupakan ilmu yang mempelajari mengenai algoritma dan model statistik yang digunakan pada sistem komputer dalam melakukan tugas tertentu tanpa adanya instruksi eksplisit sehingga mesin dapat mempelajari data-data yang ada untuk membuat suatu prediksi terhadap data di masa yang akan datang.\n",
        "\n",
        "-Data feature adalah data yang berisikan variabel independent, berfungsi sebagai predictor yang memilki peran dalam melakukan prediksi. Sedangkan data target adalah data yang berisikan variabel dependent, berfungsi sebagai label yang merupakan hasil dari prediksi.\n",
        "\n",
        "-Supervised Learning mempunyai data label sehingga memiliki output yang jelas. Sedangkan Unsupervised Learning tidak memiliki kolom label sehingga outputnya tidak jelas.\n",
        "\n",
        "-Jenis-Jenis dalam Supervised Learning, yaitu :\n",
        "1. Regresi, yang mana nanti outputnya berupak kuantitas yang berkelanjutan,\n",
        "2. Klasifikasi, yang mana nanti outputnya berupa kelas label.\n",
        "\n",
        "-Langkah-Langkah dalam Mengaplikasikan Algoritma dalam Machine Learning, yaitu :\n",
        "1. Hyperparameter, didefinisikan di awal pembuatan model, sedangkan parameter dihasilkan di akhir dan terdapat pada model awal tadi,\n",
        "2. Langkahnya :\n",
        "a. Pilih model atau algoritma yang akan digunakan\n",
        "b. Definisikan hyperparameter\n",
        "c. Pisahkan antara data feature dan data target\n",
        "d. Tuliskan metode.fit() untuk mempelajari data\n",
        "e. Aplikasikan model dengan .predict() atau transform() dan .predict()"
      ]
    },
    {
      "cell_type": "markdown",
      "metadata": {
        "id": "58I1LJFoNcRv"
      },
      "source": [
        "---\n"
      ]
    },
    {
      "cell_type": "markdown",
      "metadata": {
        "id": "jI50HJDgNcRz"
      },
      "source": [
        "<h1>Soal 2: Pemahaman Machine Learning</h1>\n",
        "\n",
        "Pelajarilah secara garis besar suatu model/algoritma machine learning, kemudian aplikasikan untuk membuat model bagi data (variable x, y) di bawah ini. Kemudian buatlah prediksi terhadap data training dan data baru di interval 20-30.\n",
        "\n",
        "- Plot data asli, data hasil prediksi terhadap data training, data hasil prediksi terhadap data baru\n",
        "- Tunjukan beberapa parameter yang dimiliki model yang telah kalian buat"
      ]
    },
    {
      "cell_type": "code",
      "execution_count": 1,
      "metadata": {
        "colab": {
          "base_uri": "https://localhost:8080/",
          "height": 388
        },
        "id": "QotZc3UbNcR9",
        "outputId": "74cf321e-ede7-49e8-8cbc-46255bfa648a"
      },
      "outputs": [
        {
          "output_type": "display_data",
          "data": {
            "text/plain": [
              "<Figure size 864x432 with 1 Axes>"
            ],
            "image/png": "[encoded data removed]"
          },
          "metadata": {
            "needs_background": "light"
          }
        }
      ],
      "source": [
        "import matplotlib.pyplot as plt\n",
        "import numpy as np\n",
        "\n",
        "rng = np.random.RandomState(42)\n",
        "x = 20 * rng.rand(50)\n",
        "y = x**2 + 2 * x + - 1 + rng.randn(50)\n",
        "\n",
        "# data yang akan di prediksi\n",
        "x_new = np.arange(20, 30, 0.5)\n",
        "\n",
        "fig, ax = plt.subplots(figsize=(12, 6))\n",
        "ax.scatter(x, y)\n",
        "ax.set_xlabel('X-Value')\n",
        "ax.set_ylabel('Y-Value')\n",
        "plt.show()"
      ]
    },
    {
      "cell_type": "markdown",
      "metadata": {
        "id": "3wrMfFusNcS6"
      },
      "source": [
        "Contoh jawaban hasil pembuatan model dengan algoritma DecisionTreeRegressor (jawaban tidak harus sama):\n",
        "\n",
        "![alt text](https://drive.google.com/uc?id=1R0mGnMp3DqEsHDiH2_IL4XSS2Roew0wo)"
      ]
    },
    {
      "cell_type": "markdown",
      "metadata": {
        "id": "4Vs7RhxRNcS_"
      },
      "source": [
        "Contoh jawaban parameters (tidak harus sama):\n",
        "\n",
        "- Feature Importance : array([1.])\n",
        "- n features : 1\n",
        "  \n",
        "Tree Graph :\n",
        "\n",
        "![alt text](https://drive.google.com/uc?id=1GM0ba_qjm_e5oLhE9v6pVt2uRBBW6FH9)"
      ]
    },
    {
      "cell_type": "code",
      "execution_count": 4,
      "metadata": {
        "colab": {
          "base_uri": "https://localhost:8080/",
          "height": 1000
        },
        "id": "AQKlYTdSbL9o",
        "outputId": "dc2cabdf-d068-4e1b-b28c-d1a3bb591ced"
      },
      "outputs": [
        {
          "output_type": "display_data",
          "data": {
            "text/plain": [
              "<Figure size 864x432 with 1 Axes>"
            ],
            "image/png": "[encoded data removed]"
          },
          "metadata": {
            "needs_background": "light"
          }
        },
        {
          "output_type": "display_data",
          "data": {
            "text/plain": [
              "<Figure size 864x576 with 1 Axes>"
            ],
            "image/png": "[encoded data removed]"
          },
          "metadata": {
            "needs_background": "light"
          }
        },
        {
          "output_type": "execute_result",
          "data": {
            "text/plain": [
              "[Text(0.5208333333333334, 0.9, 'X[0] <= 10.257\\nsquared_error = 16009.944\\nsamples = 50\\nvalue = 129.584'),\n",
              " Text(0.3125, 0.7, 'X[0] <= 7.794\\nsquared_error = 1082.279\\nsamples = 28\\nvalue = 36.377'),\n",
              " Text(0.16666666666666666, 0.5, 'X[0] <= 5.779\\nsquared_error = 431.341\\nsamples = 24\\nvalue = 25.594'),\n",
              " Text(0.08333333333333333, 0.3, 'X[0] <= 0.484\\nsquared_error = 98.692\\nsamples = 17\\nvalue = 13.907'),\n",
              " Text(0.041666666666666664, 0.1, 'squared_error = 0.0\\nsamples = 1\\nvalue = 0.382'),\n",
              " Text(0.125, 0.1, 'squared_error = 92.711\\nsamples = 16\\nvalue = 14.753'),\n",
              " Text(0.25, 0.3, 'X[0] <= 6.54\\nsquared_error = 101.936\\nsamples = 7\\nvalue = 53.977'),\n",
              " Text(0.20833333333333334, 0.1, 'squared_error = 4.988\\nsamples = 5\\nvalue = 47.723'),\n",
              " Text(0.2916666666666667, 0.1, 'squared_error = 2.11\\nsamples = 2\\nvalue = 69.611'),\n",
              " Text(0.4583333333333333, 0.5, 'X[0] <= 9.14\\nsquared_error = 104.308\\nsamples = 4\\nvalue = 101.076'),\n",
              " Text(0.4166666666666667, 0.3, 'X[0] <= 8.955\\nsquared_error = 17.723\\nsamples = 3\\nvalue = 95.568'),\n",
              " Text(0.375, 0.1, 'squared_error = 3.22\\nsamples = 2\\nvalue = 92.777'),\n",
              " Text(0.4583333333333333, 0.1, 'squared_error = 0.0\\nsamples = 1\\nvalue = 101.15'),\n",
              " Text(0.5, 0.3, 'squared_error = -0.0\\nsamples = 1\\nvalue = 117.6'),\n",
              " Text(0.7291666666666666, 0.7, 'X[0] <= 11.393\\nsquared_error = 9879.506\\nsamples = 22\\nvalue = 248.212'),\n",
              " Text(0.625, 0.5, 'X[0] <= 10.891\\nsquared_error = 31.69\\nsamples = 4\\nvalue = 131.307'),\n",
              " Text(0.5833333333333334, 0.3, 'X[0] <= 10.312\\nsquared_error = 5.095\\nsamples = 3\\nvalue = 128.259'),\n",
              " Text(0.5416666666666666, 0.1, 'squared_error = 0.0\\nsamples = 1\\nvalue = 125.418'),\n",
              " Text(0.625, 0.1, 'squared_error = 1.59\\nsamples = 2\\nvalue = 129.679'),\n",
              " Text(0.6666666666666666, 0.3, 'squared_error = -0.0\\nsamples = 1\\nvalue = 140.451'),\n",
              " Text(0.8333333333333334, 0.5, 'X[0] <= 18.055\\nsquared_error = 8355.967\\nsamples = 18\\nvalue = 274.19'),\n",
              " Text(0.75, 0.3, 'X[0] <= 12.977\\nsquared_error = 3337.771\\nsamples = 13\\nvalue = 226.689'),\n",
              " Text(0.7083333333333334, 0.1, 'squared_error = 13.744\\nsamples = 5\\nvalue = 168.812'),\n",
              " Text(0.7916666666666666, 0.1, 'squared_error = 2013.251\\nsamples = 8\\nvalue = 262.862'),\n",
              " Text(0.9166666666666666, 0.3, 'X[0] <= 18.426\\nsquared_error = 283.472\\nsamples = 5\\nvalue = 397.694'),\n",
              " Text(0.875, 0.1, 'squared_error = 0.0\\nsamples = 1\\nvalue = 366.68'),\n",
              " Text(0.9583333333333334, 0.1, 'squared_error = 53.744\\nsamples = 4\\nvalue = 405.448')]"
            ]
          },
          "metadata": {},
          "execution_count": 4
        },
        {
          "output_type": "display_data",
          "data": {
            "text/plain": [
              "<Figure size 432x288 with 1 Axes>"
            ],
            "image/png": "[encoded data removed]"
          },
          "metadata": {
            "needs_background": "light"
          }
        }
      ],
      "source": [
        "# Code here\n",
        "import matplotlib.pyplot as plt\n",
        "import numpy as np\n",
        "\n",
        "rng = np.random.RandomState(42)\n",
        "x = 20*rng.rand(50)\n",
        "y = x**2+2*x+-1+rng.rand(50)\n",
        "\n",
        "#data yang akan diprediksi\n",
        "x_new = np.arange(20,30,0.5)\n",
        "\n",
        "fig, ax = plt.subplots(figsize=(12,6))\n",
        "ax.scatter(x,y)\n",
        "ax.set_xlabel('X-Value')\n",
        "ax.set_ylabel('Y-Value')\n",
        "plt.show()\n",
        "\n",
        "from sklearn.tree import DecisionTreeRegressor\n",
        "from sklearn import tree\n",
        "\n",
        "dtr = DecisionTreeRegressor(max_depth=4, min_impurity_decrease=0.0, random_state=None, splitter='random')\n",
        "\n",
        "x_train = x.reshape(-1,1)\n",
        "y_train = y\n",
        "x_test = x_new.reshape(-1,1)\n",
        "\n",
        "dtr.fit(x_train, y_train)\n",
        "y_test = dtr.predict(x_test)\n",
        "y_predict = dtr.predict(x_train)\n",
        "\n",
        "fig = plt.subplots(figsize=(12, 8))\n",
        "plt.scatter(x, y, c='b', label='Data Asli')\n",
        "plt.scatter(x_train, y_predict, c='y', label='Prediksi Terhadap Data Training')\n",
        "plt.plot(x_test, y_test, c='g', label='Prediksi Terhadap Data Baru')\n",
        "plt.legend()\n",
        "plt.show()\n",
        "tree.plot_tree(dtr)\n"
      ]
    },
    {
      "cell_type": "markdown",
      "source": [
        "# Tugas Hari KEDUA_UNIVARIATE, BIVARIATE, MULTIVARIATE ANALYSIS"
      ],
      "metadata": {
        "id": "KBGqpTmZtyEV"
      }
    },
    {
      "cell_type": "markdown",
      "metadata": {
        "id": "5K6xQ_mFbt7B"
      },
      "source": [
        "<h1>Soal 1: Pemahaman Algoritma</h1>\n",
        "\n",
        "Jawab Pertanyaan di bawah ini dengan penyampaian bahasa sendiri!\n",
        "\n",
        "1. Bagaimana proses algoritma KNN?\n",
        "2. Jelaskan minimal 2 kekurangan dari algoritma KNN?"
      ]
    },
    {
      "cell_type": "markdown",
      "metadata": {
        "id": "00A5KWAygagM"
      },
      "source": [
        "Jawab: \n",
        "1. Algoritma KNN akan melakukan prediksi label dengan menghitung jumlah tetangga terdekatnya. Proses Algortma KNN, yaitu :\n",
        "a. Pertama, tentukan terlebih dahulu jumlah nilai k neighbors. Penentuan jumlah k ini bergantung dari sebaran datanya, jika sebarannya rapat dan memiliki data pencilan, maka pilih nilai k yang kecil. Sebaliknya jika sebaran datanya lebar, maka lebih baik pilih k yang besar. Secara default, jumlah k adalah 5.\n",
        "\n",
        " b. Kedua, setelah kita tentukan nilai k = 5. Kita perlu menemukan 5 tetangga terdekat terhadap data point yang baru berdasarkan pada Euclidean distance. Kemudian, kita akan peroleh 5 titik yang terdekat terhadap data poin baru.\n",
        " \n",
        " c. Ketiga, kita lakukan voting atau menghitung berapa jumlah terbanyak dari data poin tersebut yang dekat dengan data poin baru.\n",
        " \n",
        " d. Keempat, masukkan data poin baru ke label yang sudah kita hitung tetangga terbanyaknya. \n",
        "    \n",
        "    \n",
        " 2. Kekurangan dari algoritma KNN, yaitu :\n",
        " a. Tidak menangani nilai hilang (missing value) secara implisit. \n",
        " b. Sensitif terhadap data pencilan (outlier). \n",
        " c. Rentan terhadap variabel yang non-informatif. \n",
        " d. Rentan terhadap dimensionalitas yang tinggi"
      ]
    },
    {
      "cell_type": "markdown",
      "metadata": {
        "id": "UDvanK5pgcnF"
      },
      "source": [
        "---"
      ]
    },
    {
      "cell_type": "markdown",
      "metadata": {
        "id": "VsHxDJ4jbt7P"
      },
      "source": [
        "<h1>Soal 2: Pengaplikasian Algoritma KNN</h1>\n",
        "\n",
        "- Buatlah model KNN\n",
        "- Training model tersebut kepada data X_train dengan hyperparameter kombinasi antara  2<= k <=20 dan weights bernilai 'uniform', dan 'distance'  \n",
        "- Lakukan prediksi terhadap data X_test untuk model di setiap kombinasi k dan weights\n",
        "- Score dengan accuracy dari hasil prediksi terhadap data X_test untuk setiap kombinasi hyperparameter, masukan score tersebut ke dalam objek list dengan di groupkan berdasarkan jenis weights, sehingga di akhir kita punya variable misalkan list_uniform_score, dan list_distance_score\n",
        "- Plot kedua list tersebut dengan lineplot kedalam satu axis dan bandingkan hasilnya"
      ]
    },
    {
      "cell_type": "code",
      "execution_count": 5,
      "metadata": {
        "id": "Gng40Wu8bt7c"
      },
      "outputs": [],
      "source": [
        "from sklearn.datasets import load_wine\n",
        "import pandas as pd\n",
        "import numpy as np\n",
        "\n",
        "wine = load_wine()\n",
        "df = pd.DataFrame(np.c_[wine['data'], wine['target']], columns= wine['feature_names'] + ['class'])\n",
        "\n",
        "#Preprocessing data\n",
        "X = df.drop('class', axis=1)\n",
        "y = df['class']\n",
        "\n",
        "from sklearn.model_selection import train_test_split\n",
        "\n",
        "X_train, X_test, y_train, y_test = train_test_split(X, y, test_size=0.2, random_state=21)"
      ]
    },
    {
      "cell_type": "code",
      "execution_count": 6,
      "metadata": {
        "id": "tOEaGQwgwdRS",
        "outputId": "79ed5bac-1a19-4451-c327-518df91f7d19",
        "colab": {
          "base_uri": "https://localhost:8080/",
          "height": 711
        }
      },
      "outputs": [
        {
          "output_type": "stream",
          "name": "stdout",
          "text": [
            "uniform scores : \n"
          ]
        },
        {
          "output_type": "display_data",
          "data": {
            "text/plain": [
              "[0.6944444444444444,\n",
              " 0.8055555555555556,\n",
              " 0.7222222222222222,\n",
              " 0.6666666666666666,\n",
              " 0.6388888888888888,\n",
              " 0.75,\n",
              " 0.6388888888888888,\n",
              " 0.6944444444444444,\n",
              " 0.6944444444444444,\n",
              " 0.7222222222222222,\n",
              " 0.6388888888888888,\n",
              " 0.6666666666666666,\n",
              " 0.6388888888888888,\n",
              " 0.6666666666666666,\n",
              " 0.6111111111111112,\n",
              " 0.6666666666666666,\n",
              " 0.6388888888888888,\n",
              " 0.6666666666666666,\n",
              " 0.6111111111111112]"
            ]
          },
          "metadata": {}
        },
        {
          "output_type": "stream",
          "name": "stdout",
          "text": [
            "distance score : \n"
          ]
        },
        {
          "output_type": "display_data",
          "data": {
            "text/plain": [
              "[0.75,\n",
              " 0.8333333333333334,\n",
              " 0.7777777777777778,\n",
              " 0.75,\n",
              " 0.7222222222222222,\n",
              " 0.75,\n",
              " 0.6944444444444444,\n",
              " 0.7222222222222222,\n",
              " 0.6944444444444444,\n",
              " 0.6944444444444444,\n",
              " 0.6944444444444444,\n",
              " 0.6944444444444444,\n",
              " 0.6944444444444444,\n",
              " 0.6666666666666666,\n",
              " 0.6666666666666666,\n",
              " 0.6666666666666666,\n",
              " 0.6666666666666666,\n",
              " 0.6666666666666666,\n",
              " 0.6666666666666666]"
            ]
          },
          "metadata": {}
        }
      ],
      "source": [
        "from sklearn.neighbors import KNeighborsClassifier\n",
        "from sklearn.metrics import accuracy_score\n",
        "\n",
        "list_uniform_scores = []\n",
        "list_distance_scores = []\n",
        "\n",
        "for i in range (2,21) :\n",
        "    knn = KNeighborsClassifier(n_neighbors=i, weights='uniform')\n",
        "    knn.fit(X_train, y_train)\n",
        "    y_predict = knn.predict(X_test)\n",
        "    list_uniform_scores.append(knn.score(X_test, y_test))\n",
        "    \n",
        "for i in range (2,21) :\n",
        "    knn = KNeighborsClassifier(n_neighbors=i, weights='distance')\n",
        "    knn.fit(X_train, y_train)\n",
        "    y_predict = knn.predict(X_test)\n",
        "    list_distance_scores.append(knn.score(X_test,y_test))\n",
        "    \n",
        "print ('uniform scores : ')\n",
        "display(list_uniform_scores)\n",
        "print ('distance score : ')\n",
        "display(list_distance_scores)"
      ]
    },
    {
      "cell_type": "markdown",
      "metadata": {
        "id": "9IRv63G0bt8T"
      },
      "source": [
        "Contoh hasil yang di harapkan :\n",
        "\n",
        "\n",
        "```\n",
        "Uniform Scores:\n",
        "[0.6944444444444444,\n",
        " 0.8055555555555556,\n",
        " 0.7222222222222222,\n",
        " 0.6666666666666666,\n",
        " 0.6388888888888888,\n",
        " 0.75,\n",
        " 0.6388888888888888,\n",
        " 0.6944444444444444,\n",
        " 0.6944444444444444,\n",
        " 0.7222222222222222,\n",
        " 0.6388888888888888,\n",
        " 0.6666666666666666,\n",
        " 0.6388888888888888,\n",
        " 0.6666666666666666,\n",
        " 0.6111111111111112,\n",
        " 0.6666666666666666,\n",
        " 0.6388888888888888,\n",
        " 0.6666666666666666,\n",
        " 0.6111111111111112]\n",
        "\n",
        "Distance scores:\n",
        "[0.75,\n",
        " 0.8333333333333334,\n",
        " 0.7777777777777778,\n",
        " 0.75,\n",
        " 0.7222222222222222,\n",
        " 0.75,\n",
        " 0.6944444444444444,\n",
        " 0.7222222222222222,\n",
        " 0.6944444444444444,\n",
        " 0.6944444444444444,\n",
        " 0.6944444444444444,\n",
        " 0.6944444444444444,\n",
        " 0.6944444444444444,\n",
        " 0.6666666666666666,\n",
        " 0.6666666666666666,\n",
        " 0.6666666666666666,\n",
        " 0.6666666666666666,\n",
        " 0.6666666666666666,\n",
        " 0.6666666666666666]\n",
        "```\n",
        "\n",
        "\n",
        "\n",
        " \n",
        "\n",
        "\n",
        "![alt text](https://drive.google.com/uc?id=1pppy_BWQsg5tdgOBEU1GgiHSklLLoimt)"
      ]
    },
    {
      "cell_type": "markdown",
      "metadata": {
        "id": "UnInuMmFgfQp"
      },
      "source": [
        "---"
      ]
    },
    {
      "cell_type": "markdown",
      "metadata": {
        "id": "1xGA6Usmbt8b"
      },
      "source": [
        "<h1>Soal 3: Pengaplikasian Model Linear Regression</h1>\n",
        "\n",
        "Applikasikan model linear regresi kedalam data berikut. Kemudian tunjukan parameter koefesien dan intercept dari model tersebut."
      ]
    },
    {
      "cell_type": "code",
      "execution_count": 7,
      "metadata": {
        "id": "IEsbrAiybt8i"
      },
      "outputs": [],
      "source": [
        "import numpy as np\n",
        "\n",
        "rng = np.random.RandomState(1)\n",
        "\n",
        "X = 10 * rng.rand(50, 4)\n",
        "y = np.array([  0.9826564 ,  49.40390035,  85.76013175,  29.17254633,\n",
        "        11.270054  ,  61.53852735, -19.52503854,  10.10230867,\n",
        "        82.03058206,  45.72660678,  82.09252575,  90.78872391,\n",
        "        67.94178098,  39.97492762, 124.78866966,  85.24615819,\n",
        "        85.68491086,  80.39481211,  14.54591581, 137.19722354,\n",
        "        85.04063428,  94.76681927,  84.64289989,  38.76421156,\n",
        "        47.33953927,  94.50853335,  77.3276567 ,  -9.77846805,\n",
        "        61.13434468,  42.12124052,  26.65634335, 120.41593333,\n",
        "       138.08132504, 103.33745675, 145.64447692,  19.54777986,\n",
        "        87.40631024, 111.47327389,  95.94874761, 146.34817502,\n",
        "       118.10333528,  56.85956484, 108.57660235, 114.30790247,\n",
        "        40.27107041,  73.83871008,  45.52217182,  -7.57752547,\n",
        "       147.81772162, 139.40285349])"
      ]
    },
    {
      "cell_type": "code",
      "execution_count": null,
      "metadata": {
        "id": "zPtc1FkSwdRW"
      },
      "outputs": [],
      "source": [
        "#Parameter koefisien dan intercept dari model"
      ]
    },
    {
      "cell_type": "markdown",
      "source": [
        "# Tugas Hari KETIGA_MACHINE LEARNING (UNSUPERVISED CLUSTERING)"
      ],
      "metadata": {
        "id": "foitTBLFtySV"
      }
    },
    {
      "cell_type": "markdown",
      "metadata": {
        "id": "PrQVcF-ldGWQ"
      },
      "source": [
        "<h1> Soal 1: Pemahaman Tentang Model Evaluasi</h1>\n",
        "\n",
        "Jawab pertanyaan di bawah ini dengan bahasa masing-masing?\n",
        "\n",
        "1. Apa perbedaan antara data latih, data validasi, dan data test?\n",
        "2. Bagaimana cara kita menilai performa suatu model?\n",
        "3. Apa itu Confusion Matrix? Jelaskan secara lengkap!\n",
        "4. Apa itu Classification Report dari sklearn?"
      ]
    },
    {
      "cell_type": "markdown",
      "metadata": {
        "id": "sr6D5UIhgpwO"
      },
      "source": [
        "Jawab: \n",
        "1.Data Latih atau data training, digunakan untuk training model. Data Validasi, digunakan untuk proses validasi model dan mencegah overfitting. Data Test, digunakan untuk testing model, sebagai simulasi penggunaan model pada dunia nyata.\n",
        "2.Cara menilai performa suatu model, yaitu dengan klasifikasi (classification metrics), regresi (regression metrics), dan klastering (clustering metrics).\n",
        "3.Confusion Matrix, adalah pengukuran performa untuk masalah klasifikasi machine learning dimana keluaran dapat berupa dua kelas atau lebih.\n",
        "4.Classification report dari sklearn,"
      ]
    },
    {
      "cell_type": "markdown",
      "metadata": {
        "id": "uY-s7-KDgrkV"
      },
      "source": [
        "---"
      ]
    },
    {
      "cell_type": "markdown",
      "metadata": {
        "id": "Fv2TVsgAdGWY"
      },
      "source": [
        "<h1>Soal 2: Aplikasi Model Evaluasi</h1>\n",
        "\n",
        "Kali ini kita akan menggunakan data untuk memprediksi kelangsungan hidup pasien yang telah mengalami operasi payudara. Dengan informasi yang dimiliki terkait pasien, kita akan membuat model untuk memprediksi apakah pasien akan bertahan hidup dalam waktu lebih dari 5 tahun atau tidak.\n",
        "\n",
        "Lebih Lengkapnya kalian bisa membaca informasi tentang dataset di link berikut: https://raw.githubusercontent.com/jbrownlee/Datasets/master/haberman.names\n",
        "\n",
        "Buat model Klasifikasi (Model/Algoritma Bebas) untuk memprediksi status pasien dengan ketentuan sebagai berikut:\n",
        "\n",
        "1. Bagi kedua data ini menjadi data training dan data test dengan test_size=0.25.\n",
        "3. Pelajar tentang metrics roc_auc_score kemudian buatlah model dan evaluasi dengan menggunakan teknik cross-validation dengan scoring 'roc_auc'. Baca https://scikit-learn.org/stable/modules/generated/sklearn.model_selection.cross_val_score.html untuk menggunakan metric roc_auc saat cross-validation.\n",
        "3. Berapa score rata2 dari model dengan teknik cross-validation tersebut?\n",
        "4. Prediksi data test dengan model yang telah kalian buat!\n",
        "5. Bagaimana hasil confusion matrix dari hasil prediksi tersebut?\n",
        "6. Bagaimana classification report dari hasil prediksi tersebut?\n",
        "5. Seberapa baik model anda dalam memprediksi seorang pasien mempunyai status positive?\n",
        "6. Seberapa baik model anda dalam memprediksi seorang pasien mempunyai status negatif?"
      ]
    },
    {
      "cell_type": "code",
      "execution_count": 8,
      "metadata": {
        "id": "g4UqaWyPdGWj"
      },
      "outputs": [],
      "source": [
        "import pandas as pd\n",
        "\n",
        "url = 'https://raw.githubusercontent.com/jbrownlee/Datasets/master/haberman.csv'\n",
        "list_cols = ['Age', \"Patient's Years\", \"N_positive_ax\", \"survival_status\"]\n",
        "df = pd.read_csv(url, names=list_cols)"
      ]
    },
    {
      "cell_type": "code",
      "execution_count": 9,
      "metadata": {
        "id": "YrbPNGtHdGXV",
        "outputId": "c41e9e57-196a-42df-b8e0-9d3d6a21d42f",
        "colab": {
          "base_uri": "https://localhost:8080/",
          "height": 206
        }
      },
      "outputs": [
        {
          "output_type": "execute_result",
          "data": {
            "text/plain": [
              "   Age  Patient's Years  N_positive_ax  survival_status\n",
              "0   30               64              1                1\n",
              "1   30               62              3                1\n",
              "2   30               65              0                1\n",
              "3   31               59              2                1\n",
              "4   31               65              4                1"
            ],
            "text/html": [
              "\n",
              "  <div id=\"df-d427142f-6b3e-4886-b7a7-8fd080e32ad9\">\n",
              "    <div class=\"colab-df-container\">\n",
              "      <div>\n",
              "<style scoped>\n",
              "    .dataframe tbody tr th:only-of-type {\n",
              "        vertical-align: middle;\n",
              "    }\n",
              "\n",
              "    .dataframe tbody tr th {\n",
              "        vertical-align: top;\n",
              "    }\n",
              "\n",
              "    .dataframe thead th {\n",
              "        text-align: right;\n",
              "    }\n",
              "</style>\n",
              "<table border=\"1\" class=\"dataframe\">\n",
              "  <thead>\n",
              "    <tr style=\"text-align: right;\">\n",
              "      <th></th>\n",
              "      <th>Age</th>\n",
              "      <th>Patient's Years</th>\n",
              "      <th>N_positive_ax</th>\n",
              "      <th>survival_status</th>\n",
              "    </tr>\n",
              "  </thead>\n",
              "  <tbody>\n",
              "    <tr>\n",
              "      <th>0</th>\n",
              "      <td>30</td>\n",
              "      <td>64</td>\n",
              "      <td>1</td>\n",
              "      <td>1</td>\n",
              "    </tr>\n",
              "    <tr>\n",
              "      <th>1</th>\n",
              "      <td>30</td>\n",
              "      <td>62</td>\n",
              "      <td>3</td>\n",
              "      <td>1</td>\n",
              "    </tr>\n",
              "    <tr>\n",
              "      <th>2</th>\n",
              "      <td>30</td>\n",
              "      <td>65</td>\n",
              "      <td>0</td>\n",
              "      <td>1</td>\n",
              "    </tr>\n",
              "    <tr>\n",
              "      <th>3</th>\n",
              "      <td>31</td>\n",
              "      <td>59</td>\n",
              "      <td>2</td>\n",
              "      <td>1</td>\n",
              "    </tr>\n",
              "    <tr>\n",
              "      <th>4</th>\n",
              "      <td>31</td>\n",
              "      <td>65</td>\n",
              "      <td>4</td>\n",
              "      <td>1</td>\n",
              "    </tr>\n",
              "  </tbody>\n",
              "</table>\n",
              "</div>\n",
              "      <button class=\"colab-df-convert\" onclick=\"convertToInteractive('df-d427142f-6b3e-4886-b7a7-8fd080e32ad9')\"\n",
              "              title=\"Convert this dataframe to an interactive table.\"\n",
              "              style=\"display:none;\">\n",
              "        \n",
              "  <svg xmlns=\"http://www.w3.org/2000/svg\" height=\"24px\"viewBox=\"0 0 24 24\"\n",
              "       width=\"24px\">\n",
              "    <path d=\"M0 0h24v24H0V0z\" fill=\"none\"/>\n",
              "    <path d=\"M18.56 5.44l.94 2.06.94-2.06 2.06-.94-2.06-.94-.94-2.06-.94 2.06-2.06.94zm-11 1L8.5 8.5l.94-2.06 2.06-.94-2.06-.94L8.5 2.5l-.94 2.06-2.06.94zm10 10l.94 2.06.94-2.06 2.06-.94-2.06-.94-.94-2.06-.94 2.06-2.06.94z\"/><path d=\"M17.41 7.96l-1.37-1.37c-.4-.4-.92-.59-1.43-.59-.52 0-1.04.2-1.43.59L10.3 9.45l-7.72 7.72c-.78.78-.78 2.05 0 2.83L4 21.41c.39.39.9.59 1.41.59.51 0 1.02-.2 1.41-.59l7.78-7.78 2.81-2.81c.8-.78.8-2.07 0-2.86zM5.41 20L4 18.59l7.72-7.72 1.47 1.35L5.41 20z\"/>\n",
              "  </svg>\n",
              "      </button>\n",
              "      \n",
              "  <style>\n",
              "    .colab-df-container {\n",
              "      display:flex;\n",
              "      flex-wrap:wrap;\n",
              "      gap: 12px;\n",
              "    }\n",
              "\n",
              "    .colab-df-convert {\n",
              "      background-color: #E8F0FE;\n",
              "      border: none;\n",
              "      border-radius: 50%;\n",
              "      cursor: pointer;\n",
              "      display: none;\n",
              "      fill: #1967D2;\n",
              "      height: 32px;\n",
              "      padding: 0 0 0 0;\n",
              "      width: 32px;\n",
              "    }\n",
              "\n",
              "    .colab-df-convert:hover {\n",
              "      background-color: #E2EBFA;\n",
              "      box-shadow: 0px 1px 2px rgba(60, 64, 67, 0.3), 0px 1px 3px 1px rgba(60, 64, 67, 0.15);\n",
              "      fill: #174EA6;\n",
              "    }\n",
              "\n",
              "    [theme=dark] .colab-df-convert {\n",
              "      background-color: #3B4455;\n",
              "      fill: #D2E3FC;\n",
              "    }\n",
              "\n",
              "    [theme=dark] .colab-df-convert:hover {\n",
              "      background-color: #434B5C;\n",
              "      box-shadow: 0px 1px 3px 1px rgba(0, 0, 0, 0.15);\n",
              "      filter: drop-shadow(0px 1px 2px rgba(0, 0, 0, 0.3));\n",
              "      fill: #FFFFFF;\n",
              "    }\n",
              "  </style>\n",
              "\n",
              "      <script>\n",
              "        const buttonEl =\n",
              "          document.querySelector('#df-d427142f-6b3e-4886-b7a7-8fd080e32ad9 button.colab-df-convert');\n",
              "        buttonEl.style.display =\n",
              "          google.colab.kernel.accessAllowed ? 'block' : 'none';\n",
              "\n",
              "        async function convertToInteractive(key) {\n",
              "          const element = document.querySelector('#df-d427142f-6b3e-4886-b7a7-8fd080e32ad9');\n",
              "          const dataTable =\n",
              "            await google.colab.kernel.invokeFunction('convertToInteractive',\n",
              "                                                     [key], {});\n",
              "          if (!dataTable) return;\n",
              "\n",
              "          const docLinkHtml = 'Like what you see? Visit the ' +\n",
              "            '<a target=\"_blank\" href=https://colab.research.google.com/notebooks/data_table.ipynb>data table notebook</a>'\n",
              "            + ' to learn more about interactive tables.';\n",
              "          element.innerHTML = '';\n",
              "          dataTable['output_type'] = 'display_data';\n",
              "          await google.colab.output.renderOutput(dataTable, element);\n",
              "          const docLink = document.createElement('div');\n",
              "          docLink.innerHTML = docLinkHtml;\n",
              "          element.appendChild(docLink);\n",
              "        }\n",
              "      </script>\n",
              "    </div>\n",
              "  </div>\n",
              "  "
            ]
          },
          "metadata": {},
          "execution_count": 9
        }
      ],
      "source": [
        "df.head()"
      ]
    },
    {
      "cell_type": "code",
      "execution_count": 10,
      "metadata": {
        "id": "-dxYNPg7dGX4",
        "outputId": "a7614098-5b7e-482e-9915-185056972fb2",
        "colab": {
          "base_uri": "https://localhost:8080/"
        }
      },
      "outputs": [
        {
          "output_type": "execute_result",
          "data": {
            "text/plain": [
              "1    225\n",
              "2     81\n",
              "Name: survival_status, dtype: int64"
            ]
          },
          "metadata": {},
          "execution_count": 10
        }
      ],
      "source": [
        "df['survival_status'].value_counts()"
      ]
    },
    {
      "cell_type": "code",
      "execution_count": 11,
      "metadata": {
        "id": "8W2amvZgdGYX",
        "outputId": "fd5ad922-7ca4-4f6f-b027-f3edb986c2c9",
        "colab": {
          "base_uri": "https://localhost:8080/",
          "height": 632
        }
      },
      "outputs": [
        {
          "output_type": "display_data",
          "data": {
            "text/plain": [
              "     Age  Patient's Years  N_positive_ax\n",
              "0     30               64              1\n",
              "1     30               62              3\n",
              "2     30               65              0\n",
              "3     31               59              2\n",
              "4     31               65              4\n",
              "..   ...              ...            ...\n",
              "301   75               62              1\n",
              "302   76               67              0\n",
              "303   77               65              3\n",
              "304   78               65              1\n",
              "305   83               58              2\n",
              "\n",
              "[306 rows x 3 columns]"
            ],
            "text/html": [
              "\n",
              "  <div id=\"df-621f22ff-178e-418c-85a0-9cb268d9911b\">\n",
              "    <div class=\"colab-df-container\">\n",
              "      <div>\n",
              "<style scoped>\n",
              "    .dataframe tbody tr th:only-of-type {\n",
              "        vertical-align: middle;\n",
              "    }\n",
              "\n",
              "    .dataframe tbody tr th {\n",
              "        vertical-align: top;\n",
              "    }\n",
              "\n",
              "    .dataframe thead th {\n",
              "        text-align: right;\n",
              "    }\n",
              "</style>\n",
              "<table border=\"1\" class=\"dataframe\">\n",
              "  <thead>\n",
              "    <tr style=\"text-align: right;\">\n",
              "      <th></th>\n",
              "      <th>Age</th>\n",
              "      <th>Patient's Years</th>\n",
              "      <th>N_positive_ax</th>\n",
              "    </tr>\n",
              "  </thead>\n",
              "  <tbody>\n",
              "    <tr>\n",
              "      <th>0</th>\n",
              "      <td>30</td>\n",
              "      <td>64</td>\n",
              "      <td>1</td>\n",
              "    </tr>\n",
              "    <tr>\n",
              "      <th>1</th>\n",
              "      <td>30</td>\n",
              "      <td>62</td>\n",
              "      <td>3</td>\n",
              "    </tr>\n",
              "    <tr>\n",
              "      <th>2</th>\n",
              "      <td>30</td>\n",
              "      <td>65</td>\n",
              "      <td>0</td>\n",
              "    </tr>\n",
              "    <tr>\n",
              "      <th>3</th>\n",
              "      <td>31</td>\n",
              "      <td>59</td>\n",
              "      <td>2</td>\n",
              "    </tr>\n",
              "    <tr>\n",
              "      <th>4</th>\n",
              "      <td>31</td>\n",
              "      <td>65</td>\n",
              "      <td>4</td>\n",
              "    </tr>\n",
              "    <tr>\n",
              "      <th>...</th>\n",
              "      <td>...</td>\n",
              "      <td>...</td>\n",
              "      <td>...</td>\n",
              "    </tr>\n",
              "    <tr>\n",
              "      <th>301</th>\n",
              "      <td>75</td>\n",
              "      <td>62</td>\n",
              "      <td>1</td>\n",
              "    </tr>\n",
              "    <tr>\n",
              "      <th>302</th>\n",
              "      <td>76</td>\n",
              "      <td>67</td>\n",
              "      <td>0</td>\n",
              "    </tr>\n",
              "    <tr>\n",
              "      <th>303</th>\n",
              "      <td>77</td>\n",
              "      <td>65</td>\n",
              "      <td>3</td>\n",
              "    </tr>\n",
              "    <tr>\n",
              "      <th>304</th>\n",
              "      <td>78</td>\n",
              "      <td>65</td>\n",
              "      <td>1</td>\n",
              "    </tr>\n",
              "    <tr>\n",
              "      <th>305</th>\n",
              "      <td>83</td>\n",
              "      <td>58</td>\n",
              "      <td>2</td>\n",
              "    </tr>\n",
              "  </tbody>\n",
              "</table>\n",
              "<p>306 rows × 3 columns</p>\n",
              "</div>\n",
              "      <button class=\"colab-df-convert\" onclick=\"convertToInteractive('df-621f22ff-178e-418c-85a0-9cb268d9911b')\"\n",
              "              title=\"Convert this dataframe to an interactive table.\"\n",
              "              style=\"display:none;\">\n",
              "        \n",
              "  <svg xmlns=\"http://www.w3.org/2000/svg\" height=\"24px\"viewBox=\"0 0 24 24\"\n",
              "       width=\"24px\">\n",
              "    <path d=\"M0 0h24v24H0V0z\" fill=\"none\"/>\n",
              "    <path d=\"M18.56 5.44l.94 2.06.94-2.06 2.06-.94-2.06-.94-.94-2.06-.94 2.06-2.06.94zm-11 1L8.5 8.5l.94-2.06 2.06-.94-2.06-.94L8.5 2.5l-.94 2.06-2.06.94zm10 10l.94 2.06.94-2.06 2.06-.94-2.06-.94-.94-2.06-.94 2.06-2.06.94z\"/><path d=\"M17.41 7.96l-1.37-1.37c-.4-.4-.92-.59-1.43-.59-.52 0-1.04.2-1.43.59L10.3 9.45l-7.72 7.72c-.78.78-.78 2.05 0 2.83L4 21.41c.39.39.9.59 1.41.59.51 0 1.02-.2 1.41-.59l7.78-7.78 2.81-2.81c.8-.78.8-2.07 0-2.86zM5.41 20L4 18.59l7.72-7.72 1.47 1.35L5.41 20z\"/>\n",
              "  </svg>\n",
              "      </button>\n",
              "      \n",
              "  <style>\n",
              "    .colab-df-container {\n",
              "      display:flex;\n",
              "      flex-wrap:wrap;\n",
              "      gap: 12px;\n",
              "    }\n",
              "\n",
              "    .colab-df-convert {\n",
              "      background-color: #E8F0FE;\n",
              "      border: none;\n",
              "      border-radius: 50%;\n",
              "      cursor: pointer;\n",
              "      display: none;\n",
              "      fill: #1967D2;\n",
              "      height: 32px;\n",
              "      padding: 0 0 0 0;\n",
              "      width: 32px;\n",
              "    }\n",
              "\n",
              "    .colab-df-convert:hover {\n",
              "      background-color: #E2EBFA;\n",
              "      box-shadow: 0px 1px 2px rgba(60, 64, 67, 0.3), 0px 1px 3px 1px rgba(60, 64, 67, 0.15);\n",
              "      fill: #174EA6;\n",
              "    }\n",
              "\n",
              "    [theme=dark] .colab-df-convert {\n",
              "      background-color: #3B4455;\n",
              "      fill: #D2E3FC;\n",
              "    }\n",
              "\n",
              "    [theme=dark] .colab-df-convert:hover {\n",
              "      background-color: #434B5C;\n",
              "      box-shadow: 0px 1px 3px 1px rgba(0, 0, 0, 0.15);\n",
              "      filter: drop-shadow(0px 1px 2px rgba(0, 0, 0, 0.3));\n",
              "      fill: #FFFFFF;\n",
              "    }\n",
              "  </style>\n",
              "\n",
              "      <script>\n",
              "        const buttonEl =\n",
              "          document.querySelector('#df-621f22ff-178e-418c-85a0-9cb268d9911b button.colab-df-convert');\n",
              "        buttonEl.style.display =\n",
              "          google.colab.kernel.accessAllowed ? 'block' : 'none';\n",
              "\n",
              "        async function convertToInteractive(key) {\n",
              "          const element = document.querySelector('#df-621f22ff-178e-418c-85a0-9cb268d9911b');\n",
              "          const dataTable =\n",
              "            await google.colab.kernel.invokeFunction('convertToInteractive',\n",
              "                                                     [key], {});\n",
              "          if (!dataTable) return;\n",
              "\n",
              "          const docLinkHtml = 'Like what you see? Visit the ' +\n",
              "            '<a target=\"_blank\" href=https://colab.research.google.com/notebooks/data_table.ipynb>data table notebook</a>'\n",
              "            + ' to learn more about interactive tables.';\n",
              "          element.innerHTML = '';\n",
              "          dataTable['output_type'] = 'display_data';\n",
              "          await google.colab.output.renderOutput(dataTable, element);\n",
              "          const docLink = document.createElement('div');\n",
              "          docLink.innerHTML = docLinkHtml;\n",
              "          element.appendChild(docLink);\n",
              "        }\n",
              "      </script>\n",
              "    </div>\n",
              "  </div>\n",
              "  "
            ]
          },
          "metadata": {}
        },
        {
          "output_type": "display_data",
          "data": {
            "text/plain": [
              "0      1\n",
              "1      1\n",
              "2      1\n",
              "3      1\n",
              "4      1\n",
              "      ..\n",
              "301    1\n",
              "302    1\n",
              "303    1\n",
              "304    2\n",
              "305    2\n",
              "Name: survival_status, Length: 306, dtype: int64"
            ]
          },
          "metadata": {}
        }
      ],
      "source": [
        "# Code here\n",
        "import numpy as np\n",
        "from sklearn.model_selection import train_test_split\n",
        "from sklearn.linear_model import LogisticRegression\n",
        "from sklearn.model_selection import cross_val_score\n",
        "from sklearn.metrics import confusion_matrix\n",
        "from sklearn.metrics import classification_report\n",
        "\n",
        "x = df.drop('survival_status', axis = 1)\n",
        "y = df['survival_status']\n",
        "\n",
        "display(x)\n",
        "display(y)"
      ]
    },
    {
      "cell_type": "markdown",
      "metadata": {
        "id": "I6v_dgoN-7wL"
      },
      "source": [
        "---"
      ]
    },
    {
      "cell_type": "markdown",
      "metadata": {
        "id": "teekoyIw--g2"
      },
      "source": [
        "<h1> Soal 3: Pemahaman Tentang Model Selection</h1>\n",
        "\n",
        "Jelaskan dengan bahasa sendiri!\n",
        "\n",
        "1. Apa itu Bias dan Variance?\n",
        "2. Apa itu Overfitting dan Underfitting?\n",
        "3. Apa yang bisa kita lakukan untuk mengatur kompleksitas dari model?\n",
        "4. Bagaimana model yang baik?\n",
        "5. Kapan kita menggunakan GridSearchcv dan kapan menggunakan RandomizedSearchCV?"
      ]
    },
    {
      "cell_type": "markdown",
      "metadata": {
        "id": "4a1l4RNf_FcU"
      },
      "source": [
        "Jawab:\n",
        "1.Bias adalah perbedaan antara rata-rata hasil hasil prediksi dari model Mechine learning yang di bangun dengan data nilai yang sebenarnya. Variance adalah variabel dari prediksi model untuk data tertentu dimana memberikan informasi mengenai persebaran data.\n",
        "2.Overfitting adalah suatu keadaan dimana data yang digunakan untuk pelatihan adalah data yang terbaik. Underfitting adalah keadaan dimana model pelatihan data yang dibuat tidak mewakilkan keseluruhan data yang akan digunakan nantinya.\n",
        "5.GridSearchcv"
      ]
    },
    {
      "cell_type": "markdown",
      "metadata": {
        "id": "Svj_cgxF_IZv"
      },
      "source": [
        "---"
      ]
    },
    {
      "cell_type": "markdown",
      "metadata": {
        "id": "Hkh-PeRL_LZp"
      },
      "source": [
        "<h1> Soal 4: Aplikasi Model Selection</h1>\n",
        "\n",
        "1. Bagi kedua data berikut ini menjadi data training dan data test dengan test_size=0.25.\n",
        "2. Gunakan algoritma KNN sebagai model classifier.\n",
        "3. Gunakan fungsi GridSearchCV untuk hyperparameter tuning dan model selection.\n",
        "4. jumlah fold bebas!, gunakan scoring 'roc_auc'\n",
        "5. Definisikan kombinasi hyperparameter untuk model selection dengan GridSearchCV. kombinasi Hyperparameter bebas, baca lagi dokumentasi KNN di link berikut https://scikit-learn.org/stable/modules/generated/sklearn.neighbors.KNeighborsClassifier.html untuk memahami lagi jenis2 hyperparameter di algorithma KNN.\n",
        "6. Latih model terhadap data training.\n",
        "7. Apa hyperparameter terbaik untuk kombinasi hyperparameter kalian?\n",
        "8. Berapa score validasi terbaik dari model tersebut?\n",
        "9. Prediksi probabilitasi output dari model yang telah di buat terhadap data test. note : gunakan method .predict_proba() untuk menghasilkan output probabilitas\n",
        "10. Perhatikan bahwa hasil prediksi ada 2, dimana masing2 adalah nilai probabilitas untuk setiap class label. Ambil nilai probabilitas pasien phositive meninggal dalam waktu kurang dari 5 tahun. note : gunakan bantuan attirubte .classes_ untuk mengetahui urutan label dari hasil prediksi probabilitas.\n",
        "11. Berapa nilai score roc_auc untuk data test?\n",
        "12. Apakah model anda termasuk baik, overtting, atau underfitting?\n",
        "13. Ulangi tahap di atas namun kali ini menggunakan algoritma DecisionTreeClassifier dan kalian bisa menggunakan RandomizedSearchCV apabila process training lama. pelajari algoritma DecisionTreeClassifier di linkberikut: https://scikit-learn.org/stable/modules/generated/sklearn.tree.DecisionTreeClassifier.html?highlight=decisiontreeclassifier#sklearn.tree.DecisionTreeClassifier\n",
        "14. Bandingkan scorenya dengan Algoritma KNN, mana yang lebih baik?\n",
        "\n",
        "Note : Data Science adalah experiment, sangat di dimungkinkan memerlukan beberapa kali percobaan untuk mendapatkan hasil yang terbaik! Happy Coding :)"
      ]
    },
    {
      "cell_type": "code",
      "execution_count": 12,
      "metadata": {
        "id": "l_zK8Mqb-9Z6"
      },
      "outputs": [],
      "source": [
        "import pandas as pd\n",
        "\n",
        "url = 'https://raw.githubusercontent.com/jbrownlee/Datasets/master/haberman.csv'\n",
        "list_cols = ['Age', \"Patient's Years\", \"N_positive_ax\", \"survival_status\"]\n",
        "df = pd.read_csv(url, names=list_cols)"
      ]
    },
    {
      "cell_type": "code",
      "execution_count": 15,
      "metadata": {
        "id": "qb-AD43R_V_d",
        "outputId": "b5d70373-8f8a-4786-d656-1cbd825cffb2",
        "colab": {
          "base_uri": "https://localhost:8080/",
          "height": 206
        }
      },
      "outputs": [
        {
          "output_type": "execute_result",
          "data": {
            "text/plain": [
              "   Age  Patient's Years  N_positive_ax  survival_status\n",
              "0   30               64              1                1\n",
              "1   30               62              3                1\n",
              "2   30               65              0                1\n",
              "3   31               59              2                1\n",
              "4   31               65              4                1"
            ],
            "text/html": [
              "\n",
              "  <div id=\"df-ffc43afb-3cfe-4638-b42f-ad665323df6e\">\n",
              "    <div class=\"colab-df-container\">\n",
              "      <div>\n",
              "<style scoped>\n",
              "    .dataframe tbody tr th:only-of-type {\n",
              "        vertical-align: middle;\n",
              "    }\n",
              "\n",
              "    .dataframe tbody tr th {\n",
              "        vertical-align: top;\n",
              "    }\n",
              "\n",
              "    .dataframe thead th {\n",
              "        text-align: right;\n",
              "    }\n",
              "</style>\n",
              "<table border=\"1\" class=\"dataframe\">\n",
              "  <thead>\n",
              "    <tr style=\"text-align: right;\">\n",
              "      <th></th>\n",
              "      <th>Age</th>\n",
              "      <th>Patient's Years</th>\n",
              "      <th>N_positive_ax</th>\n",
              "      <th>survival_status</th>\n",
              "    </tr>\n",
              "  </thead>\n",
              "  <tbody>\n",
              "    <tr>\n",
              "      <th>0</th>\n",
              "      <td>30</td>\n",
              "      <td>64</td>\n",
              "      <td>1</td>\n",
              "      <td>1</td>\n",
              "    </tr>\n",
              "    <tr>\n",
              "      <th>1</th>\n",
              "      <td>30</td>\n",
              "      <td>62</td>\n",
              "      <td>3</td>\n",
              "      <td>1</td>\n",
              "    </tr>\n",
              "    <tr>\n",
              "      <th>2</th>\n",
              "      <td>30</td>\n",
              "      <td>65</td>\n",
              "      <td>0</td>\n",
              "      <td>1</td>\n",
              "    </tr>\n",
              "    <tr>\n",
              "      <th>3</th>\n",
              "      <td>31</td>\n",
              "      <td>59</td>\n",
              "      <td>2</td>\n",
              "      <td>1</td>\n",
              "    </tr>\n",
              "    <tr>\n",
              "      <th>4</th>\n",
              "      <td>31</td>\n",
              "      <td>65</td>\n",
              "      <td>4</td>\n",
              "      <td>1</td>\n",
              "    </tr>\n",
              "  </tbody>\n",
              "</table>\n",
              "</div>\n",
              "      <button class=\"colab-df-convert\" onclick=\"convertToInteractive('df-ffc43afb-3cfe-4638-b42f-ad665323df6e')\"\n",
              "              title=\"Convert this dataframe to an interactive table.\"\n",
              "              style=\"display:none;\">\n",
              "        \n",
              "  <svg xmlns=\"http://www.w3.org/2000/svg\" height=\"24px\"viewBox=\"0 0 24 24\"\n",
              "       width=\"24px\">\n",
              "    <path d=\"M0 0h24v24H0V0z\" fill=\"none\"/>\n",
              "    <path d=\"M18.56 5.44l.94 2.06.94-2.06 2.06-.94-2.06-.94-.94-2.06-.94 2.06-2.06.94zm-11 1L8.5 8.5l.94-2.06 2.06-.94-2.06-.94L8.5 2.5l-.94 2.06-2.06.94zm10 10l.94 2.06.94-2.06 2.06-.94-2.06-.94-.94-2.06-.94 2.06-2.06.94z\"/><path d=\"M17.41 7.96l-1.37-1.37c-.4-.4-.92-.59-1.43-.59-.52 0-1.04.2-1.43.59L10.3 9.45l-7.72 7.72c-.78.78-.78 2.05 0 2.83L4 21.41c.39.39.9.59 1.41.59.51 0 1.02-.2 1.41-.59l7.78-7.78 2.81-2.81c.8-.78.8-2.07 0-2.86zM5.41 20L4 18.59l7.72-7.72 1.47 1.35L5.41 20z\"/>\n",
              "  </svg>\n",
              "      </button>\n",
              "      \n",
              "  <style>\n",
              "    .colab-df-container {\n",
              "      display:flex;\n",
              "      flex-wrap:wrap;\n",
              "      gap: 12px;\n",
              "    }\n",
              "\n",
              "    .colab-df-convert {\n",
              "      background-color: #E8F0FE;\n",
              "      border: none;\n",
              "      border-radius: 50%;\n",
              "      cursor: pointer;\n",
              "      display: none;\n",
              "      fill: #1967D2;\n",
              "      height: 32px;\n",
              "      padding: 0 0 0 0;\n",
              "      width: 32px;\n",
              "    }\n",
              "\n",
              "    .colab-df-convert:hover {\n",
              "      background-color: #E2EBFA;\n",
              "      box-shadow: 0px 1px 2px rgba(60, 64, 67, 0.3), 0px 1px 3px 1px rgba(60, 64, 67, 0.15);\n",
              "      fill: #174EA6;\n",
              "    }\n",
              "\n",
              "    [theme=dark] .colab-df-convert {\n",
              "      background-color: #3B4455;\n",
              "      fill: #D2E3FC;\n",
              "    }\n",
              "\n",
              "    [theme=dark] .colab-df-convert:hover {\n",
              "      background-color: #434B5C;\n",
              "      box-shadow: 0px 1px 3px 1px rgba(0, 0, 0, 0.15);\n",
              "      filter: drop-shadow(0px 1px 2px rgba(0, 0, 0, 0.3));\n",
              "      fill: #FFFFFF;\n",
              "    }\n",
              "  </style>\n",
              "\n",
              "      <script>\n",
              "        const buttonEl =\n",
              "          document.querySelector('#df-ffc43afb-3cfe-4638-b42f-ad665323df6e button.colab-df-convert');\n",
              "        buttonEl.style.display =\n",
              "          google.colab.kernel.accessAllowed ? 'block' : 'none';\n",
              "\n",
              "        async function convertToInteractive(key) {\n",
              "          const element = document.querySelector('#df-ffc43afb-3cfe-4638-b42f-ad665323df6e');\n",
              "          const dataTable =\n",
              "            await google.colab.kernel.invokeFunction('convertToInteractive',\n",
              "                                                     [key], {});\n",
              "          if (!dataTable) return;\n",
              "\n",
              "          const docLinkHtml = 'Like what you see? Visit the ' +\n",
              "            '<a target=\"_blank\" href=https://colab.research.google.com/notebooks/data_table.ipynb>data table notebook</a>'\n",
              "            + ' to learn more about interactive tables.';\n",
              "          element.innerHTML = '';\n",
              "          dataTable['output_type'] = 'display_data';\n",
              "          await google.colab.output.renderOutput(dataTable, element);\n",
              "          const docLink = document.createElement('div');\n",
              "          docLink.innerHTML = docLinkHtml;\n",
              "          element.appendChild(docLink);\n",
              "        }\n",
              "      </script>\n",
              "    </div>\n",
              "  </div>\n",
              "  "
            ]
          },
          "metadata": {},
          "execution_count": 15
        }
      ],
      "source": [
        "df.head()"
      ]
    }
  ],
  "metadata": {
    "colab": {
      "provenance": []
    },
    "kernelspec": {
      "display_name": "Python 3",
      "language": "python",
      "name": "python3"
    },
    "language_info": {
      "codemirror_mode": {
        "name": "ipython",
        "version": 3
      },
      "file_extension": ".py",
      "mimetype": "text/x-python",
      "name": "python",
      "nbconvert_exporter": "python",
      "pygments_lexer": "ipython3",
      "version": "3.8.0"
    }
  },
  "nbformat": 4,
  "nbformat_minor": 0
}